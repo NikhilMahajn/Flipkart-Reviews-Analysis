{
 "cells": [
  {
   "cell_type": "code",
   "execution_count": 1,
   "id": "f038624b-2a8b-424c-8876-6c7642e968f3",
   "metadata": {},
   "outputs": [
    {
     "data": {
      "text/html": [
       "<div>\n",
       "<style scoped>\n",
       "    .dataframe tbody tr th:only-of-type {\n",
       "        vertical-align: middle;\n",
       "    }\n",
       "\n",
       "    .dataframe tbody tr th {\n",
       "        vertical-align: top;\n",
       "    }\n",
       "\n",
       "    .dataframe thead th {\n",
       "        text-align: right;\n",
       "    }\n",
       "</style>\n",
       "<table border=\"1\" class=\"dataframe\">\n",
       "  <thead>\n",
       "    <tr style=\"text-align: right;\">\n",
       "      <th></th>\n",
       "      <th>product_name</th>\n",
       "      <th>product_price</th>\n",
       "      <th>Rate</th>\n",
       "      <th>Review</th>\n",
       "      <th>Summary</th>\n",
       "      <th>Sentiment</th>\n",
       "    </tr>\n",
       "  </thead>\n",
       "  <tbody>\n",
       "    <tr>\n",
       "      <th>0</th>\n",
       "      <td>Candes 12 L Room/Personal Air Cooler??????(Whi...</td>\n",
       "      <td>3999</td>\n",
       "      <td>5</td>\n",
       "      <td>super!</td>\n",
       "      <td>great cooler excellent air flow and for this p...</td>\n",
       "      <td>positive</td>\n",
       "    </tr>\n",
       "    <tr>\n",
       "      <th>1</th>\n",
       "      <td>Candes 12 L Room/Personal Air Cooler??????(Whi...</td>\n",
       "      <td>3999</td>\n",
       "      <td>5</td>\n",
       "      <td>awesome</td>\n",
       "      <td>best budget 2 fit cooler nice cooling</td>\n",
       "      <td>positive</td>\n",
       "    </tr>\n",
       "    <tr>\n",
       "      <th>2</th>\n",
       "      <td>Candes 12 L Room/Personal Air Cooler??????(Whi...</td>\n",
       "      <td>3999</td>\n",
       "      <td>3</td>\n",
       "      <td>fair</td>\n",
       "      <td>the quality is good but the power of air is de...</td>\n",
       "      <td>positive</td>\n",
       "    </tr>\n",
       "    <tr>\n",
       "      <th>3</th>\n",
       "      <td>Candes 12 L Room/Personal Air Cooler??????(Whi...</td>\n",
       "      <td>3999</td>\n",
       "      <td>1</td>\n",
       "      <td>useless product</td>\n",
       "      <td>very bad product its a only a fan</td>\n",
       "      <td>negative</td>\n",
       "    </tr>\n",
       "    <tr>\n",
       "      <th>4</th>\n",
       "      <td>Candes 12 L Room/Personal Air Cooler??????(Whi...</td>\n",
       "      <td>3999</td>\n",
       "      <td>3</td>\n",
       "      <td>fair</td>\n",
       "      <td>ok ok product</td>\n",
       "      <td>neutral</td>\n",
       "    </tr>\n",
       "  </tbody>\n",
       "</table>\n",
       "</div>"
      ],
      "text/plain": [
       "                                        product_name product_price Rate  \\\n",
       "0  Candes 12 L Room/Personal Air Cooler??????(Whi...          3999    5   \n",
       "1  Candes 12 L Room/Personal Air Cooler??????(Whi...          3999    5   \n",
       "2  Candes 12 L Room/Personal Air Cooler??????(Whi...          3999    3   \n",
       "3  Candes 12 L Room/Personal Air Cooler??????(Whi...          3999    1   \n",
       "4  Candes 12 L Room/Personal Air Cooler??????(Whi...          3999    3   \n",
       "\n",
       "            Review                                            Summary  \\\n",
       "0           super!  great cooler excellent air flow and for this p...   \n",
       "1          awesome              best budget 2 fit cooler nice cooling   \n",
       "2             fair  the quality is good but the power of air is de...   \n",
       "3  useless product                  very bad product its a only a fan   \n",
       "4             fair                                      ok ok product   \n",
       "\n",
       "  Sentiment  \n",
       "0  positive  \n",
       "1  positive  \n",
       "2  positive  \n",
       "3  negative  \n",
       "4   neutral  "
      ]
     },
     "execution_count": 1,
     "metadata": {},
     "output_type": "execute_result"
    }
   ],
   "source": [
    "import pandas as pd\n",
    "from nltk.corpus import stopwords\n",
    "from sklearn.preprocessing import OrdinalEncoder\n",
    "import string\n",
    "from sklearn.feature_extraction.text import CountVectorizer,TfidfVectorizer\n",
    "from sklearn.model_selection import train_test_split\n",
    "from sklearn.ensemble import RandomForestClassifier\n",
    "\n",
    "df = pd.read_csv('data/Dataset-SA.csv')\n",
    "df.head()"
   ]
  },
  {
   "cell_type": "code",
   "execution_count": 2,
   "id": "8813dd11-655f-4073-813e-57f48e4f22be",
   "metadata": {},
   "outputs": [
    {
     "data": {
      "text/plain": [
       "'Candes 12 L Room/Personal Air Cooler??????(White, Black, Elegant High Speed-Honey Comb Cooling Pad & Ice Chamber, Blower)'"
      ]
     },
     "execution_count": 2,
     "metadata": {},
     "output_type": "execute_result"
    }
   ],
   "source": [
    "df['product_name'].iloc[1]"
   ]
  },
  {
   "cell_type": "code",
   "execution_count": 3,
   "id": "7a3d3945-fd97-46ab-b502-4507f542f406",
   "metadata": {},
   "outputs": [
    {
     "name": "stdout",
     "output_type": "stream",
     "text": [
      "product_name         0\n",
      "product_price        0\n",
      "Rate                 0\n",
      "Review           24664\n",
      "Summary             11\n",
      "Sentiment            0\n",
      "dtype: int64\n",
      "(205052, 6)\n",
      "24664\n",
      "null val = 12.03 %\n"
     ]
    }
   ],
   "source": [
    "print(df.isnull().sum())\n",
    "print(df.shape)\n",
    "print(df['Review'].isnull().sum())\n",
    "print(\"null val = {:.2f} %\".format((df['Review'].isnull().sum()/df.shape[0])*100))"
   ]
  },
  {
   "cell_type": "code",
   "execution_count": 4,
   "id": "c83ebdfd-5422-4f03-a7ea-e5121cb6c9e9",
   "metadata": {},
   "outputs": [],
   "source": [
    "df.dropna(inplace=True)"
   ]
  },
  {
   "cell_type": "code",
   "execution_count": 5,
   "id": "8770b50a-90f0-41ab-80d2-a7fb7d53a701",
   "metadata": {},
   "outputs": [],
   "source": [
    "data = df[['Rate','Review','Summary','Sentiment']]"
   ]
  },
  {
   "cell_type": "code",
   "execution_count": 6,
   "id": "ad3bc5a6-e959-485f-be4d-66fca408e129",
   "metadata": {},
   "outputs": [
    {
     "data": {
      "text/plain": [
       "Sentiment\n",
       "positive    147171\n",
       "negative     24401\n",
       "neutral       8807\n",
       "Name: count, dtype: int64"
      ]
     },
     "execution_count": 6,
     "metadata": {},
     "output_type": "execute_result"
    }
   ],
   "source": [
    "data['Sentiment'].value_counts()"
   ]
  },
  {
   "cell_type": "code",
   "execution_count": 7,
   "id": "265d7939-bbc0-4d8f-904f-df594ae1d48f",
   "metadata": {},
   "outputs": [],
   "source": [
    "data = data[data['Sentiment'] !='neutral']"
   ]
  },
  {
   "cell_type": "code",
   "execution_count": 8,
   "id": "e7c13e69-e6db-4184-a2c3-e8ae6676e129",
   "metadata": {},
   "outputs": [],
   "source": [
    "from nltk.corpus import stopwords\n",
    "from nltk.stem import PorterStemmer\n",
    "from nltk.tokenize import word_tokenize\n",
    "import re\n",
    "\n",
    "stpwords = set(stopwords.words('english'))  # Convert stopwords list to a set for fast lookup\n",
    "stem = PorterStemmer()  # Create an instance\n",
    "\n",
    "def clean(i):\n",
    "    i = re.sub(r'READ MORE', '', i)\n",
    "    i = i.lower()  # Convert to lowercase\n",
    "    words = word_tokenize(i)  # Tokenize sentence\n",
    "    words = [stem.stem(word) for word in words if word not in stpwords]\n",
    "    words = [word for word in words if word not in string.punctuation]\n",
    "    return ' '.join(words)  # Join words back into a sentence\n",
    "    \n"
   ]
  },
  {
   "cell_type": "code",
   "execution_count": 9,
   "id": "d0fd18ff-5c3b-4970-bed5-3b33b17d31aa",
   "metadata": {},
   "outputs": [
    {
     "data": {
      "text/plain": [
       "Sentiment\n",
       "positive    147171\n",
       "negative     24401\n",
       "Name: count, dtype: int64"
      ]
     },
     "execution_count": 9,
     "metadata": {},
     "output_type": "execute_result"
    }
   ],
   "source": [
    "data['Sentiment'].value_counts()"
   ]
  },
  {
   "cell_type": "code",
   "execution_count": 10,
   "id": "38d4a561-342e-4feb-884d-a718c63d7639",
   "metadata": {},
   "outputs": [],
   "source": [
    "data['Review'] = data['Review'].apply(clean)\n",
    "data['Summary'] = data['Summary'].apply(clean)\n",
    "ord = OrdinalEncoder(categories=[['negative','positive']])\n",
    "data['Sentiment'] = ord.fit_transform(data[['Sentiment']])"
   ]
  },
  {
   "cell_type": "code",
   "execution_count": 11,
   "id": "00794329-e0fc-4c3a-adca-1b7ee977658b",
   "metadata": {},
   "outputs": [],
   "source": [
    "# from sklearn.naive_bayes import MultinomialNB\n",
    "# from sklearn.metrics import accuracy_score\n",
    "\n",
    "# X = data[['Review','Summary']]\n",
    "# y = data['Sentiment']\n",
    "# X_train, X_test, y_train, y_test = train_test_split(X, y, test_size=0.2, random_state=42)\n",
    "# vectorizer_review = CountVectorizer(ngram_range=(1,2))\n",
    "# vectorizer_summary = CountVectorizer(ngram_range=(1,2))\n",
    "\n",
    "# review_bow_train = vectorizer_review.fit_transform(X_train['Review'])\n",
    "# summary_bow_train = vectorizer_summary.fit_transform(X_train['Summary'])\n",
    "\n",
    "# review_bow_test = vectorizer_review.transform(X_test['Review'])\n",
    "# summary_bow_test = vectorizer_summary.transform(X_test['Summary'])\n",
    "\n",
    "# # Merge Sparse Matrices Horizontally\n",
    "# from scipy.sparse import hstack\n",
    "\n",
    "# X_train_bow = hstack([review_bow_train, summary_bow_train])\n",
    "# X_test_bow = hstack([review_bow_test, summary_bow_test])\n",
    "\n",
    "# model = MultinomialNB()\n",
    "# model.fit(X_train_bow, y_train)\n",
    "\n",
    "# # Predict & Evaluate\n",
    "# pred = model.predict(X_test_bow)\n",
    "# print(\"Accuracy:\", accuracy_score(y_test, pred))\n"
   ]
  },
  {
   "cell_type": "code",
   "execution_count": 12,
   "id": "1cc48bbb-42c1-4a58-8406-e9e44f1de6ff",
   "metadata": {},
   "outputs": [],
   "source": [
    "# data.to_csv('reviews_filtered.csv',index=False)"
   ]
  },
  {
   "cell_type": "code",
   "execution_count": 13,
   "id": "1f0a8456-84f1-4670-aa82-ef00fa70cc57",
   "metadata": {},
   "outputs": [],
   "source": [
    "# from sklearn.naive_bayes import MultinomialNB\n",
    "# from sklearn.metrics import accuracy_score\n",
    "\n",
    "# X = data[['Review','Summary']]\n",
    "# y = data['Sentiment']\n",
    "# X_train, X_test, y_train, y_test = train_test_split(X, y, test_size=0.2, random_state=42)\n",
    "# vectorizer_review = TfidfVectorizer()\n",
    "# vectorizer_summary = TfidfVectorizer()\n",
    "\n",
    "# review_bow_train = vectorizer_review.fit_transform(X_train['Review'])\n",
    "# summary_bow_train = vectorizer_summary.fit_transform(X_train['Summary'])\n",
    "\n",
    "# review_bow_test = vectorizer_review.transform(X_test['Review'])\n",
    "# summary_bow_test = vectorizer_summary.transform(X_test['Summary'])\n",
    "\n",
    "# # Merge Sparse Matrices Horizontally\n",
    "# from scipy.sparse import hstack\n",
    "\n",
    "# X_train_bow = hstack([review_bow_train, summary_bow_train])\n",
    "# X_test_bow = hstack([review_bow_test, summary_bow_test])\n",
    "\n",
    "# model = MultinomialNB()\n",
    "# model.fit(X_train_bow, y_train)\n",
    "\n",
    "# # Predict & Evaluate\n",
    "# pred = model.predict(X_test_bow)\n",
    "# print(\"Accuracy:\", accuracy_score(y_test, pred))\n"
   ]
  },
  {
   "cell_type": "code",
   "execution_count": 14,
   "id": "83e2bb30-2968-420f-9eeb-65e2cf15ef8e",
   "metadata": {},
   "outputs": [],
   "source": [
    "# review = \"good quality product\"\n",
    "# summary = \"cooler is big and wide maharaja brand trust y every thing is good about cooler create less noise only thing is that its motor is not powerful even in high speed rest all things are good but yes for one middle size room it is ok\"\n",
    "# data_sample = [[review,summary]]\n",
    "# df = pd.DataFrame(data_sample,columns=['Review','Summary'])\n",
    "# review_bow_test = vectorizer_review.transform(df[['Review']])\n",
    "# summary_bow_test = vectorizer_summary.transform(df[['Summary']])\n",
    "# row = hstack([review_bow_test, summary_bow_test])\n",
    "\n",
    "# print(model.predict(row))\n"
   ]
  },
  {
   "cell_type": "code",
   "execution_count": 15,
   "id": "2b4f64ed-15c8-4d86-b669-b803e3aa10aa",
   "metadata": {},
   "outputs": [
    {
     "name": "stdout",
     "output_type": "stream",
     "text": [
      "                   Review                                            Summary  \\\n",
      "3         useless product                                    bad product fan   \n",
      "8          unsatisfactori                                         bad cooler   \n",
      "32  expect better product                                        bad qualiti   \n",
      "48             wast money  small wire moter capac low fan speed good flow...   \n",
      "53                   nice  receiv dalay 10 day cooler ok reveiv switch damag   \n",
      "\n",
      "    Sentiment  \n",
      "3         0.0  \n",
      "8         0.0  \n",
      "32        0.0  \n",
      "48        0.0  \n",
      "53        0.0  \n"
     ]
    }
   ],
   "source": [
    "from imblearn.under_sampling import RandomUnderSampler\n",
    "\n",
    "# Assuming df has 'Review', 'Summary', and 'Sentiment' columns\n",
    "X = data[['Review', 'Summary']]  # Selecting both text columns\n",
    "y = data['Sentiment']  # Target column (1 = Positive, 0 = Negative)\n",
    "\n",
    "# Initialize the undersampler\n",
    "rus = RandomUnderSampler(sampling_strategy='auto', random_state=42)\n",
    "\n",
    "# Resample the dataset\n",
    "X_resampled, y_resampled = rus.fit_resample(X, y)\n",
    "\n",
    "# Create the new balanced DataFrame\n",
    "df_balanced = pd.DataFrame({'Review': X_resampled['Review'], \n",
    "                            'Summary': X_resampled['Summary'], \n",
    "                            'Sentiment': y_resampled})\n",
    "\n",
    "# Display the new balanced dataset\n",
    "print(df_balanced.head())\n"
   ]
  },
  {
   "cell_type": "code",
   "execution_count": 16,
   "id": "1c79007c-c3d7-476d-9f36-db457994d5f3",
   "metadata": {},
   "outputs": [
    {
     "data": {
      "text/plain": [
       "Sentiment\n",
       "0.0    24401\n",
       "1.0    24401\n",
       "Name: count, dtype: int64"
      ]
     },
     "execution_count": 16,
     "metadata": {},
     "output_type": "execute_result"
    }
   ],
   "source": [
    "df_balanced['Sentiment'].value_counts()"
   ]
  },
  {
   "cell_type": "code",
   "execution_count": null,
   "id": "58be667f-abc7-423c-91e8-4b975529556c",
   "metadata": {},
   "outputs": [
    {
     "name": "stdout",
     "output_type": "stream",
     "text": [
      "Mean CV Accuracy: 0.9369381023682216\n"
     ]
    }
   ],
   "source": [
    "from sklearn.naive_bayes import MultinomialNB\n",
    "from sklearn.metrics import accuracy_score\n",
    "\n",
    "X = df_balanced[['Review','Summary']]\n",
    "y = df_balanced['Sentiment']\n",
    "X_train, X_test, y_train, y_test = train_test_split(X, y, test_size=0.2, random_state=42)\n",
    "vectorizer_review = CountVectorizer(ngram_range=(1,2))\n",
    "vectorizer_summary = CountVectorizer(ngram_range=(1,2))\n",
    "\n",
    "review_bow_train = vectorizer_review.fit_transform(X_train['Review'])\n",
    "summary_bow_train = vectorizer_summary.fit_transform(X_train['Summary'])\n",
    "\n",
    "review_bow_test = vectorizer_review.transform(X_test['Review'])\n",
    "summary_bow_test = vectorizer_summary.transform(X_test['Summary'])\n",
    "\n",
    "# Merge Sparse Matrices Horizontally\n",
    "from scipy.sparse import hstack\n",
    "\n",
    "X_train_bow = hstack([review_bow_train, summary_bow_train])\n",
    "X_test_bow = hstack([review_bow_test, summary_bow_test])\n",
    "\n",
    "model = MultinomialNB()\n",
    "# model.fit(X_train_bow, y_train)\n",
    "from sklearn.model_selection import cross_val_score\n",
    "scores = cross_val_score(model, X_train_bow, y_train, cv=5)    \n",
    "print(\"Mean CV Accuracy:\", scores.mean())\n",
    "\n",
    "# Predict & Evaluate\n",
    "# pred = model.predict(X_test_bow)\n",
    "# print(\"Accuracy:\", accuracy_score(y_test, pred))\n",
    "# with open('sentiment_model2.pkl', 'wb') as file:\n",
    "#     pickle.dump((model, vectorizer_review, vectorizer_summary), file)\n"
   ]
  },
  {
   "cell_type": "code",
   "execution_count": 19,
   "id": "dc38436f-cfe3-4b15-9d24-d10a612b1849",
   "metadata": {},
   "outputs": [],
   "source": [
    "# with open('sentiment_model2.pkl', 'rb') as file:\n",
    "#     model, vectorizer_review, vectorizer_summary = pickle.load(file)\n",
    "\n",
    "# review = \"Perfect product!\"\n",
    "# summary = \"Tirggr ultrabuds N1 Neo are awesome sound quality and battery back is awesome simply its abest product in such a nominal amount these buds are very comfortable in wearing its a worth money product highly recommendable.\"\n",
    "# data = pd.DataFrame({'Review':[review],'Summary':[summary]})\n",
    "# review_test = vectorizer_review.transform(data['Review'])\n",
    "# summary_test = vectorizer_summary.transform(data['Summary'])\n",
    "\n",
    "# X_test_new = hstack([review_test, summary_test])\n",
    "\n",
    "# model.predict(X_test_new)\n"
   ]
  },
  {
   "cell_type": "code",
   "execution_count": null,
   "id": "8de3873b",
   "metadata": {},
   "outputs": [],
   "source": [
    "# with open('sentiment_model.pkl', 'rb') as file:\n",
    "#     model, vectorizer_review, vectorizer_summary = pickle.load(file)\n",
    "\n",
    "# data = pd.read_csv('reviews.csv')\n",
    "# review_test = vectorizer_review.transform(data['Review'])\n",
    "# summary_test = vectorizer_summary.transform(data['Summary'])\n",
    "\n",
    "# X_test_new = hstack([review_test, summary_test])\n",
    "\n",
    "# preds = model.predict(X_test_new)\n",
    "\n",
    "# print(preds)\n"
   ]
  },
  {
   "cell_type": "code",
   "execution_count": 23,
   "id": "1bcc6810",
   "metadata": {},
   "outputs": [
    {
     "name": "stdout",
     "output_type": "stream",
     "text": [
      "Review                                             Brilliant\n",
      "Summary    A classy earbuds which comes with great sound ...\n",
      "Name: 0, dtype: object\n"
     ]
    }
   ],
   "source": [
    "test = pd.read_csv('data/reviews_flipkart.csv')\n",
    "print(test.iloc[0])"
   ]
  },
  {
   "cell_type": "code",
   "execution_count": 14,
   "id": "7a180689",
   "metadata": {},
   "outputs": [
    {
     "data": {
      "text/plain": [
       "'Fits perfectly in my ears . Sound is awesome . No lags . Quick charge . Looks good . I use it daily for my work and workouts . I just love them . They are the perfect companions for my daily routine work . Perfectly connects with my phone .'"
      ]
     },
     "execution_count": 14,
     "metadata": {},
     "output_type": "execute_result"
    }
   ],
   "source": [
    "import re\n",
    "re.sub(r'READ MORE', '', test.iloc[1]['Summary'])"
   ]
  },
  {
   "cell_type": "code",
   "execution_count": 24,
   "id": "fbb10161",
   "metadata": {},
   "outputs": [
    {
     "name": "stdout",
     "output_type": "stream",
     "text": [
      "classi earbud come great sound bass good batteri backup chare good good long time use worth everi penni best budget\n",
      "fit perfectli ear sound awesom lag quick charg look good use daili work workout love perfect companion daili routin work perfectli connect phone\n",
      "best connect batteri visual use two year best one prefer other\n",
      "super qualiti aur super bossso beauti love fantast 😍😍\n",
      "product good sound also good bass amaz valu money ...\n",
      "nois cancel good .... extern nois phone call clearli audibl sidd\n",
      "bud sleek metal design comfort provid realli good music experi signatur sound dual eq provid balanc music experi great game also quad mic enx technolog beast mode 50m low latenc provid great sound qualiti charg pretti fast sweat splash resist huge batteri backup overal valu money\n",
      "sound qualiti 10/10 .. bass 10/10just go ....\n",
      "clear sound listen music make call bass decent disappoint batteri backup excel colour design beauti weight normal volum control switch start paus touch button work flawlessli music lover would love game also good overal good purchas valuabl item\n",
      "bud realli good overal well balanc term sound qualiti vocal crisp clear batteri backup realli good accord usag must buy\n",
      "amaz earphon price rang best listen music sound qualiti good balanc also look earbud call purpos perfect batteri backup realli good must say tw total worth price\n",
      "bud great qualiti sleek metal silver design bud fit comfort boat signatur sound dual eq provid great music experi also beast mode 50m low latenc great game splash sweat resist\n",
      "love product brilliant featur great sound qualiti love\n",
      "batteri backup good honest\n",
      "love deep bass earbud offer sound rich immers make music movi enjoy control respons earbud stay place workout\n",
      "good product .... good sound qualiti ..... batteri back-up good ... look good\n",
      "bud sleek metal grey finish quit comfort wear also 4 mic enx technolog dual eq maintain balanc mode 's good game 50 ms latenc batteri backup good charg pretti quickli\n",
      "bud look sleek metal grey finish make look stylish comfort fit ear good built sound qualiti quit good dual eq balanc sound beast mode enhanc qualiti mic qualiti good due 4 mic enx technolog\n",
      "earbud good sound qualiti awesom bass awesom earbud look design awesom build qualiti mind blow batteri backup also good\n",
      "product boat wow.th sound qualiti offer commendable.thank flipkart\n",
      "classi earbud come great sound bass good batteri backup chare good good long time use worth everi penni best budget\n",
      "fit perfectli ear sound awesom lag quick charg look good use daili work workout love perfect companion daili routin work perfectli connect phone\n",
      "best connect batteri visual use two year best one prefer other\n",
      "super qualiti aur super bossso beauti love fantast 😍😍\n",
      "product good sound also good bass amaz valu money ...\n",
      "nois cancel good .... extern nois phone call clearli audibl sidd\n",
      "bud sleek metal design comfort provid realli good music experi signatur sound dual eq provid balanc music experi great game also quad mic enx technolog beast mode 50m low latenc provid great sound qualiti charg pretti fast sweat splash resist huge batteri backup overal valu money\n",
      "sound qualiti 10/10 .. bass 10/10just go ....\n",
      "clear sound listen music make call bass decent disappoint batteri backup excel colour design beauti weight normal volum control switch start paus touch button work flawlessli music lover would love game also good overal good purchas valuabl item\n",
      "bud realli good overal well balanc term sound qualiti vocal crisp clear batteri backup realli good accord usag must buy\n",
      "amaz earphon price rang best listen music sound qualiti good balanc also look earbud call purpos perfect batteri backup realli good must say tw total worth price\n",
      "bud great qualiti sleek metal silver design bud fit comfort boat signatur sound dual eq provid great music experi also beast mode 50m low latenc great game splash sweat resist\n",
      "love product brilliant featur great sound qualiti love\n",
      "batteri backup good honest\n",
      "love deep bass earbud offer sound rich immers make music movi enjoy control respons earbud stay place workout\n",
      "good product .... good sound qualiti ..... batteri back-up good ... look good\n",
      "bud sleek metal grey finish quit comfort wear also 4 mic enx technolog dual eq maintain balanc mode 's good game 50 ms latenc batteri backup good charg pretti quickli\n",
      "bud look sleek metal grey finish make look stylish comfort fit ear good built sound qualiti quit good dual eq balanc sound beast mode enhanc qualiti mic qualiti good due 4 mic enx technolog\n",
      "earbud good sound qualiti awesom bass awesom earbud look design awesom build qualiti mind blow batteri backup also good\n",
      "product boat wow.th sound qualiti offer commendable.thank flipkart\n",
      "classi earbud come great sound bass good batteri backup chare good good long time use worth everi penni best budget\n",
      "fit perfectli ear sound awesom lag quick charg look good use daili work workout love perfect companion daili routin work perfectli connect phone\n",
      "best connect batteri visual use two year best one prefer other\n",
      "super qualiti aur super bossso beauti love fantast 😍😍\n",
      "product good sound also good bass amaz valu money ...\n",
      "nois cancel good .... extern nois phone call clearli audibl sidd\n",
      "bud sleek metal design comfort provid realli good music experi signatur sound dual eq provid balanc music experi great game also quad mic enx technolog beast mode 50m low latenc provid great sound qualiti charg pretti fast sweat splash resist huge batteri backup overal valu money\n",
      "sound qualiti 10/10 .. bass 10/10just go ....\n",
      "clear sound listen music make call bass decent disappoint batteri backup excel colour design beauti weight normal volum control switch start paus touch button work flawlessli music lover would love game also good overal good purchas valuabl item\n",
      "bud realli good overal well balanc term sound qualiti vocal crisp clear batteri backup realli good accord usag must buy\n"
     ]
    }
   ],
   "source": [
    "test['Summary'] = test['Summary'].apply(clean)\n",
    "test['Review'] = test['Review'].apply(clean)\n",
    "for i in test['Summary']:\n",
    "\t# i = re.sub(r'READ MORE', '', i)\n",
    "\tprint(i)"
   ]
  },
  {
   "cell_type": "code",
   "execution_count": null,
   "id": "c4664093",
   "metadata": {},
   "outputs": [
    {
     "name": "stdout",
     "output_type": "stream",
     "text": [
      "https://www.flipkart.com/noise-mettle-1-4-display-stainless-steel-finish-metal-strap-bluetooth-calling-smartwatch/product-reviews/itm3f95e24755967?pid=SMWGZMH7D5FQFQVV&marketplace=FLIPKART\n",
      "page\n",
      "https://www.flipkart.com/noise-mettle-1-4-display-stainless-steel-finish-metal-strap-bluetooth-calling-smartwatch/product-reviews/itm3f95e24755967?pid=SMWGZMH7D5FQFQVV&marketplace=FLIPKART&page=2\n",
      "page\n",
      "https://www.flipkart.com/noise-mettle-1-4-display-stainless-steel-finish-metal-strap-bluetooth-calling-smartwatch/product-reviews/itm3f95e24755967?pid=SMWGZMH7D5FQFQVV&marketplace=FLIPKART&page=1\n",
      "page\n"
     ]
    }
   ],
   "source": [
    "from bs4 import BeautifulSoup\n",
    "import requests\n",
    "import re\n",
    "import pandas as pd\n",
    "link = \"https://www.flipkart.com/noise-mettle-1-4-display-stainless-steel-finish-metal-strap-bluetooth-calling-smartwatch/p/itm3f95e24755967?pid=SMWGZMH7D5FQFQVV&marketplace=FLIPKART\"\n",
    "review_link = re.sub(r'/p/','/product-reviews/',link)\n",
    "review = []\n",
    "summary = []\n",
    "c = 1\n",
    "while c<4:\n",
    "\tprint(review_link)\n",
    "\tsoup = BeautifulSoup(requests.get(review_link).content, 'html.parser')\n",
    "\tprint('page')\n",
    "\treview_block = soup.find_all('div',\"col EPCmJX Ma1fCG\")\n",
    "\tfor i in review_block:\n",
    "\t\trvsoup = BeautifulSoup(str(i), 'html.parser')\n",
    "\t\treview.append(rvsoup.find('p','z9E0IG').text)\n",
    "\t\tsummary.append(rvsoup.find('div','ZmyHeo').text)\n",
    "\tnext_link = soup.find_all('a','_9QVEpD')[-1].get('href')\n",
    "\t\n",
    "\treview_link = 'https://www.flipkart.com'+next_link\n",
    "\tc +=1\n",
    "data = pd.DataFrame({'Review':review,'Summary':summary})\n",
    "# for i in data['Summary']:\n",
    "# \tprint(i)\n",
    "# return data\n"
   ]
  },
  {
   "cell_type": "code",
   "execution_count": 17,
   "id": "6f764724",
   "metadata": {},
   "outputs": [
    {
     "name": "stdout",
     "output_type": "stream",
     "text": [
      "/noise-mettle-1-4-display-stainless-steel-finish-metal-strap-bluetooth-calling-smartwatch/product-reviews/itm3f95e24755967?pid=SMWGZMH7D5FQFQVV&lid=LSTSMWGZMH7D5FQFQVVFUZN9N&marketplace=FLIPKART&page=3\n"
     ]
    }
   ],
   "source": [
    "link = \"https://www.flipkart.com/noise-mettle-1-4-display-stainless-steel-finish-metal-strap-bluetooth-calling-smartwatch/product-reviews/itm3f95e24755967?pid=SMWGZMH7D5FQFQVV&lid=LSTSMWGZMH7D5FQFQVVFUZN9N&marketplace=FLIPKART&page=2\"\n",
    "soup = BeautifulSoup(requests.get(link).content, 'html.parser')\n",
    "linkn = soup.find_all('a','_9QVEpD')[-1].get('href')\n",
    "print(linkn)\n"
   ]
  },
  {
   "cell_type": "code",
   "execution_count": 18,
   "id": "c63fcef6",
   "metadata": {},
   "outputs": [
    {
     "data": {
      "text/html": [
       "<div>\n",
       "<style scoped>\n",
       "    .dataframe tbody tr th:only-of-type {\n",
       "        vertical-align: middle;\n",
       "    }\n",
       "\n",
       "    .dataframe tbody tr th {\n",
       "        vertical-align: top;\n",
       "    }\n",
       "\n",
       "    .dataframe thead th {\n",
       "        text-align: right;\n",
       "    }\n",
       "</style>\n",
       "<table border=\"1\" class=\"dataframe\">\n",
       "  <thead>\n",
       "    <tr style=\"text-align: right;\">\n",
       "      <th></th>\n",
       "      <th>Review</th>\n",
       "      <th>Summary</th>\n",
       "      <th>Sentiment</th>\n",
       "    </tr>\n",
       "  </thead>\n",
       "  <tbody>\n",
       "    <tr>\n",
       "      <th>3</th>\n",
       "      <td>useless product</td>\n",
       "      <td>bad product fan</td>\n",
       "      <td>0.0</td>\n",
       "    </tr>\n",
       "    <tr>\n",
       "      <th>8</th>\n",
       "      <td>unsatisfactori</td>\n",
       "      <td>bad cooler</td>\n",
       "      <td>0.0</td>\n",
       "    </tr>\n",
       "    <tr>\n",
       "      <th>32</th>\n",
       "      <td>expect better product</td>\n",
       "      <td>bad qualiti</td>\n",
       "      <td>0.0</td>\n",
       "    </tr>\n",
       "    <tr>\n",
       "      <th>48</th>\n",
       "      <td>wast money</td>\n",
       "      <td>small wire moter capac low fan speed good flow...</td>\n",
       "      <td>0.0</td>\n",
       "    </tr>\n",
       "    <tr>\n",
       "      <th>53</th>\n",
       "      <td>nice</td>\n",
       "      <td>receiv dalay 10 day cooler ok reveiv switch damag</td>\n",
       "      <td>0.0</td>\n",
       "    </tr>\n",
       "  </tbody>\n",
       "</table>\n",
       "</div>"
      ],
      "text/plain": [
       "                   Review                                            Summary  \\\n",
       "3         useless product                                    bad product fan   \n",
       "8          unsatisfactori                                         bad cooler   \n",
       "32  expect better product                                        bad qualiti   \n",
       "48             wast money  small wire moter capac low fan speed good flow...   \n",
       "53                   nice  receiv dalay 10 day cooler ok reveiv switch damag   \n",
       "\n",
       "    Sentiment  \n",
       "3         0.0  \n",
       "8         0.0  \n",
       "32        0.0  \n",
       "48        0.0  \n",
       "53        0.0  "
      ]
     },
     "execution_count": 18,
     "metadata": {},
     "output_type": "execute_result"
    }
   ],
   "source": [
    "import tensorflow as tf\n",
    "from tensorflow.keras.preprocessing.text import Tokenizer\n",
    "from tensorflow.keras.preprocessing.sequence import pad_sequences\n",
    "from tensorflow.keras.models import Sequential\n",
    "from tensorflow.keras.layers import Embedding, LSTM, Dense, Dropout\n",
    "\n",
    "df_balanced.head()"
   ]
  },
  {
   "cell_type": "code",
   "execution_count": 19,
   "id": "e04485c2",
   "metadata": {},
   "outputs": [],
   "source": [
    "df_balanced[\"Combine\"] = df_balanced['Review'] + df_balanced['Summary']\n",
    "tokenizer = Tokenizer(num_words=10000, oov_token=\"<OOV>\")  # Keep top 10,000 words\n",
    "tokenizer.fit_on_texts(df_balanced[\"Combine\"])\n",
    "sequences = tokenizer.texts_to_sequences(df_balanced[\"Combine\"])\n",
    "padded_sequences = pad_sequences(sequences, maxlen=100, padding=\"post\", truncating=\"post\")\n"
   ]
  },
  {
   "cell_type": "code",
   "execution_count": 20,
   "id": "f79c754e",
   "metadata": {},
   "outputs": [],
   "source": [
    "X_train,X_test,y_train,y_test = train_test_split(padded_sequences, df_balanced['Sentiment'], test_size=0.2, random_state=42)"
   ]
  },
  {
   "cell_type": "code",
   "execution_count": null,
   "id": "621cc36c",
   "metadata": {},
   "outputs": [
    {
     "data": {
      "text/html": [
       "<pre style=\"white-space:pre;overflow-x:auto;line-height:normal;font-family:Menlo,'DejaVu Sans Mono',consolas,'Courier New',monospace\"><span style=\"font-weight: bold\">Model: \"sequential_7\"</span>\n",
       "</pre>\n"
      ],
      "text/plain": [
       "\u001b[1mModel: \"sequential_7\"\u001b[0m\n"
      ]
     },
     "metadata": {},
     "output_type": "display_data"
    },
    {
     "data": {
      "text/html": [
       "<pre style=\"white-space:pre;overflow-x:auto;line-height:normal;font-family:Menlo,'DejaVu Sans Mono',consolas,'Courier New',monospace\">┏━━━━━━━━━━━━━━━━━━━━━━━━━━━━━━━━━┳━━━━━━━━━━━━━━━━━━━━━━━━┳━━━━━━━━━━━━━━━┓\n",
       "┃<span style=\"font-weight: bold\"> Layer (type)                    </span>┃<span style=\"font-weight: bold\"> Output Shape           </span>┃<span style=\"font-weight: bold\">       Param # </span>┃\n",
       "┡━━━━━━━━━━━━━━━━━━━━━━━━━━━━━━━━━╇━━━━━━━━━━━━━━━━━━━━━━━━╇━━━━━━━━━━━━━━━┩\n",
       "│ lstm_2 (<span style=\"color: #0087ff; text-decoration-color: #0087ff\">LSTM</span>)                   │ ?                      │   <span style=\"color: #00af00; text-decoration-color: #00af00\">0</span> (unbuilt) │\n",
       "├─────────────────────────────────┼────────────────────────┼───────────────┤\n",
       "│ dense_2 (<span style=\"color: #0087ff; text-decoration-color: #0087ff\">Dense</span>)                 │ ?                      │   <span style=\"color: #00af00; text-decoration-color: #00af00\">0</span> (unbuilt) │\n",
       "└─────────────────────────────────┴────────────────────────┴───────────────┘\n",
       "</pre>\n"
      ],
      "text/plain": [
       "┏━━━━━━━━━━━━━━━━━━━━━━━━━━━━━━━━━┳━━━━━━━━━━━━━━━━━━━━━━━━┳━━━━━━━━━━━━━━━┓\n",
       "┃\u001b[1m \u001b[0m\u001b[1mLayer (type)                   \u001b[0m\u001b[1m \u001b[0m┃\u001b[1m \u001b[0m\u001b[1mOutput Shape          \u001b[0m\u001b[1m \u001b[0m┃\u001b[1m \u001b[0m\u001b[1m      Param #\u001b[0m\u001b[1m \u001b[0m┃\n",
       "┡━━━━━━━━━━━━━━━━━━━━━━━━━━━━━━━━━╇━━━━━━━━━━━━━━━━━━━━━━━━╇━━━━━━━━━━━━━━━┩\n",
       "│ lstm_2 (\u001b[38;5;33mLSTM\u001b[0m)                   │ ?                      │   \u001b[38;5;34m0\u001b[0m (unbuilt) │\n",
       "├─────────────────────────────────┼────────────────────────┼───────────────┤\n",
       "│ dense_2 (\u001b[38;5;33mDense\u001b[0m)                 │ ?                      │   \u001b[38;5;34m0\u001b[0m (unbuilt) │\n",
       "└─────────────────────────────────┴────────────────────────┴───────────────┘\n"
      ]
     },
     "metadata": {},
     "output_type": "display_data"
    },
    {
     "data": {
      "text/html": [
       "<pre style=\"white-space:pre;overflow-x:auto;line-height:normal;font-family:Menlo,'DejaVu Sans Mono',consolas,'Courier New',monospace\"><span style=\"font-weight: bold\"> Total params: </span><span style=\"color: #00af00; text-decoration-color: #00af00\">0</span> (0.00 B)\n",
       "</pre>\n"
      ],
      "text/plain": [
       "\u001b[1m Total params: \u001b[0m\u001b[38;5;34m0\u001b[0m (0.00 B)\n"
      ]
     },
     "metadata": {},
     "output_type": "display_data"
    },
    {
     "data": {
      "text/html": [
       "<pre style=\"white-space:pre;overflow-x:auto;line-height:normal;font-family:Menlo,'DejaVu Sans Mono',consolas,'Courier New',monospace\"><span style=\"font-weight: bold\"> Trainable params: </span><span style=\"color: #00af00; text-decoration-color: #00af00\">0</span> (0.00 B)\n",
       "</pre>\n"
      ],
      "text/plain": [
       "\u001b[1m Trainable params: \u001b[0m\u001b[38;5;34m0\u001b[0m (0.00 B)\n"
      ]
     },
     "metadata": {},
     "output_type": "display_data"
    },
    {
     "data": {
      "text/html": [
       "<pre style=\"white-space:pre;overflow-x:auto;line-height:normal;font-family:Menlo,'DejaVu Sans Mono',consolas,'Courier New',monospace\"><span style=\"font-weight: bold\"> Non-trainable params: </span><span style=\"color: #00af00; text-decoration-color: #00af00\">0</span> (0.00 B)\n",
       "</pre>\n"
      ],
      "text/plain": [
       "\u001b[1m Non-trainable params: \u001b[0m\u001b[38;5;34m0\u001b[0m (0.00 B)\n"
      ]
     },
     "metadata": {},
     "output_type": "display_data"
    }
   ],
   "source": [
    "model = Sequential()\n",
    "\n",
    "# model.add(Embedding(10000, output_dim=64,input_length=100))\n",
    "model.add(LSTM(64, return_sequences=True))\n",
    "# model.add(LSTM(64))\n",
    "# model.add(Dense(64, activation='relu'))\n",
    "model.add(Dense(1, activation='sigmoid'))\n",
    "model.summary()\n",
    "\n",
    "# model.compile(loss='binary_crossentropy', optimizer='adam', metrics=['accuracy'])\n",
    "# model.fit(X_train, y_train, epochs=5, validation_data=(X_test, y_test))"
   ]
  },
  {
   "cell_type": "code",
   "execution_count": null,
   "id": "2b9a2b3b",
   "metadata": {},
   "outputs": [],
   "source": []
  }
 ],
 "metadata": {
  "kernelspec": {
   "display_name": "Python 3",
   "language": "python",
   "name": "python3"
  },
  "language_info": {
   "codemirror_mode": {
    "name": "ipython",
    "version": 3
   },
   "file_extension": ".py",
   "mimetype": "text/x-python",
   "name": "python",
   "nbconvert_exporter": "python",
   "pygments_lexer": "ipython3",
   "version": "3.11.0"
  },
  "widgets": {
   "application/vnd.jupyter.widget-state+json": {
    "state": {},
    "version_major": 2,
    "version_minor": 0
   }
  }
 },
 "nbformat": 4,
 "nbformat_minor": 5
}
